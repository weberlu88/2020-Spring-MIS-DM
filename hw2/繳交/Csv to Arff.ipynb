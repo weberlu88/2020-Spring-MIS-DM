{
 "cells": [
  {
   "cell_type": "markdown",
   "metadata": {},
   "source": [
    "# Csv to Arff"
   ]
  },
  {
   "cell_type": "code",
   "execution_count": 1,
   "metadata": {},
   "outputs": [
    {
     "data": {
      "text/html": [
       "<div>\n",
       "<style scoped>\n",
       "    .dataframe tbody tr th:only-of-type {\n",
       "        vertical-align: middle;\n",
       "    }\n",
       "\n",
       "    .dataframe tbody tr th {\n",
       "        vertical-align: top;\n",
       "    }\n",
       "\n",
       "    .dataframe thead th {\n",
       "        text-align: right;\n",
       "    }\n",
       "</style>\n",
       "<table border=\"1\" class=\"dataframe\">\n",
       "  <thead>\n",
       "    <tr style=\"text-align: right;\">\n",
       "      <th></th>\n",
       "      <th>age</th>\n",
       "      <th>workclass</th>\n",
       "      <th>education</th>\n",
       "      <th>marital-status</th>\n",
       "      <th>occupation</th>\n",
       "      <th>race</th>\n",
       "      <th>gender</th>\n",
       "      <th>hours-per-week</th>\n",
       "      <th>income</th>\n",
       "    </tr>\n",
       "  </thead>\n",
       "  <tbody>\n",
       "    <tr>\n",
       "      <td>0</td>\n",
       "      <td>20-30</td>\n",
       "      <td>Private</td>\n",
       "      <td>11th</td>\n",
       "      <td>Never-married</td>\n",
       "      <td>Machine-op-inspct</td>\n",
       "      <td>Black</td>\n",
       "      <td>0</td>\n",
       "      <td>20-40</td>\n",
       "      <td>&lt;=50K</td>\n",
       "    </tr>\n",
       "    <tr>\n",
       "      <td>1</td>\n",
       "      <td>30-40</td>\n",
       "      <td>Private</td>\n",
       "      <td>HS-grad</td>\n",
       "      <td>Married-civ-spouse</td>\n",
       "      <td>Farming-fishing</td>\n",
       "      <td>White</td>\n",
       "      <td>0</td>\n",
       "      <td>40-60</td>\n",
       "      <td>&lt;=50K</td>\n",
       "    </tr>\n",
       "    <tr>\n",
       "      <td>2</td>\n",
       "      <td>20-30</td>\n",
       "      <td>Local-gov</td>\n",
       "      <td>Assoc-acdm</td>\n",
       "      <td>Married-civ-spouse</td>\n",
       "      <td>Protective-serv</td>\n",
       "      <td>White</td>\n",
       "      <td>0</td>\n",
       "      <td>20-40</td>\n",
       "      <td>&gt;50K</td>\n",
       "    </tr>\n",
       "    <tr>\n",
       "      <td>3</td>\n",
       "      <td>40-50</td>\n",
       "      <td>Private</td>\n",
       "      <td>Some-college</td>\n",
       "      <td>Married-civ-spouse</td>\n",
       "      <td>Machine-op-inspct</td>\n",
       "      <td>Black</td>\n",
       "      <td>0</td>\n",
       "      <td>20-40</td>\n",
       "      <td>&gt;50K</td>\n",
       "    </tr>\n",
       "    <tr>\n",
       "      <td>4</td>\n",
       "      <td>30-40</td>\n",
       "      <td>Private</td>\n",
       "      <td>10th</td>\n",
       "      <td>Never-married</td>\n",
       "      <td>Other-service</td>\n",
       "      <td>White</td>\n",
       "      <td>0</td>\n",
       "      <td>20-40</td>\n",
       "      <td>&lt;=50K</td>\n",
       "    </tr>\n",
       "    <tr>\n",
       "      <td>...</td>\n",
       "      <td>...</td>\n",
       "      <td>...</td>\n",
       "      <td>...</td>\n",
       "      <td>...</td>\n",
       "      <td>...</td>\n",
       "      <td>...</td>\n",
       "      <td>...</td>\n",
       "      <td>...</td>\n",
       "      <td>...</td>\n",
       "    </tr>\n",
       "    <tr>\n",
       "      <td>46028</td>\n",
       "      <td>20-30</td>\n",
       "      <td>Private</td>\n",
       "      <td>Assoc-acdm</td>\n",
       "      <td>Married-civ-spouse</td>\n",
       "      <td>Tech-support</td>\n",
       "      <td>White</td>\n",
       "      <td>1</td>\n",
       "      <td>20-40</td>\n",
       "      <td>&lt;=50K</td>\n",
       "    </tr>\n",
       "    <tr>\n",
       "      <td>46029</td>\n",
       "      <td>30-40</td>\n",
       "      <td>Private</td>\n",
       "      <td>HS-grad</td>\n",
       "      <td>Married-civ-spouse</td>\n",
       "      <td>Machine-op-inspct</td>\n",
       "      <td>White</td>\n",
       "      <td>0</td>\n",
       "      <td>20-40</td>\n",
       "      <td>&gt;50K</td>\n",
       "    </tr>\n",
       "    <tr>\n",
       "      <td>46030</td>\n",
       "      <td>50-60</td>\n",
       "      <td>Private</td>\n",
       "      <td>HS-grad</td>\n",
       "      <td>Widowed</td>\n",
       "      <td>Adm-clerical</td>\n",
       "      <td>White</td>\n",
       "      <td>1</td>\n",
       "      <td>20-40</td>\n",
       "      <td>&lt;=50K</td>\n",
       "    </tr>\n",
       "    <tr>\n",
       "      <td>46031</td>\n",
       "      <td>20-30</td>\n",
       "      <td>Private</td>\n",
       "      <td>HS-grad</td>\n",
       "      <td>Never-married</td>\n",
       "      <td>Adm-clerical</td>\n",
       "      <td>White</td>\n",
       "      <td>0</td>\n",
       "      <td>0-20</td>\n",
       "      <td>&lt;=50K</td>\n",
       "    </tr>\n",
       "    <tr>\n",
       "      <td>46032</td>\n",
       "      <td>50-60</td>\n",
       "      <td>Self-emp-inc</td>\n",
       "      <td>HS-grad</td>\n",
       "      <td>Married-civ-spouse</td>\n",
       "      <td>Exec-managerial</td>\n",
       "      <td>White</td>\n",
       "      <td>1</td>\n",
       "      <td>20-40</td>\n",
       "      <td>&gt;50K</td>\n",
       "    </tr>\n",
       "  </tbody>\n",
       "</table>\n",
       "<p>46033 rows × 9 columns</p>\n",
       "</div>"
      ],
      "text/plain": [
       "         age     workclass     education      marital-status  \\\n",
       "0      20-30       Private          11th       Never-married   \n",
       "1      30-40       Private       HS-grad  Married-civ-spouse   \n",
       "2      20-30     Local-gov    Assoc-acdm  Married-civ-spouse   \n",
       "3      40-50       Private  Some-college  Married-civ-spouse   \n",
       "4      30-40       Private          10th       Never-married   \n",
       "...      ...           ...           ...                 ...   \n",
       "46028  20-30       Private    Assoc-acdm  Married-civ-spouse   \n",
       "46029  30-40       Private       HS-grad  Married-civ-spouse   \n",
       "46030  50-60       Private       HS-grad             Widowed   \n",
       "46031  20-30       Private       HS-grad       Never-married   \n",
       "46032  50-60  Self-emp-inc       HS-grad  Married-civ-spouse   \n",
       "\n",
       "              occupation   race  gender hours-per-week income  \n",
       "0      Machine-op-inspct  Black       0          20-40  <=50K  \n",
       "1        Farming-fishing  White       0          40-60  <=50K  \n",
       "2        Protective-serv  White       0          20-40   >50K  \n",
       "3      Machine-op-inspct  Black       0          20-40   >50K  \n",
       "4          Other-service  White       0          20-40  <=50K  \n",
       "...                  ...    ...     ...            ...    ...  \n",
       "46028       Tech-support  White       1          20-40  <=50K  \n",
       "46029  Machine-op-inspct  White       0          20-40   >50K  \n",
       "46030       Adm-clerical  White       1          20-40  <=50K  \n",
       "46031       Adm-clerical  White       0           0-20  <=50K  \n",
       "46032    Exec-managerial  White       1          20-40   >50K  \n",
       "\n",
       "[46033 rows x 9 columns]"
      ]
     },
     "execution_count": 1,
     "metadata": {},
     "output_type": "execute_result"
    }
   ],
   "source": [
    "import pandas as pd\n",
    "df = pd.read_csv('adult.csv')\n",
    "df"
   ]
  },
  {
   "cell_type": "markdown",
   "metadata": {},
   "source": [
    "### Get columns' title\n",
    "Get columns' title has 2 ways.\n",
    "```python\n",
    "list(df.columns.values)\n",
    "list(df)\n",
    "```"
   ]
  },
  {
   "cell_type": "code",
   "execution_count": 2,
   "metadata": {},
   "outputs": [
    {
     "name": "stdout",
     "output_type": "stream",
     "text": [
      "<class 'pandas.core.frame.DataFrame'>\n",
      "RangeIndex: 46033 entries, 0 to 46032\n",
      "Data columns (total 9 columns):\n",
      "age               46033 non-null object\n",
      "workclass         46033 non-null object\n",
      "education         46033 non-null object\n",
      "marital-status    46033 non-null object\n",
      "occupation        46033 non-null object\n",
      "race              46033 non-null object\n",
      "gender            46033 non-null int64\n",
      "hours-per-week    46033 non-null object\n",
      "income            46033 non-null object\n",
      "dtypes: int64(1), object(8)\n",
      "memory usage: 3.2+ MB\n"
     ]
    }
   ],
   "source": [
    "attrs = list(df)\n",
    "df.info()"
   ]
  },
  {
   "cell_type": "markdown",
   "metadata": {},
   "source": [
    "### Get columns' unique values"
   ]
  },
  {
   "cell_type": "code",
   "execution_count": 3,
   "metadata": {},
   "outputs": [],
   "source": [
    "col_count = len(df.columns)\n",
    "attr_vals = []\n",
    "for i in attrs:\n",
    "    attr_vals.append( sorted(df[i].unique().tolist()) )"
   ]
  },
  {
   "cell_type": "code",
   "execution_count": 4,
   "metadata": {},
   "outputs": [
    {
     "data": {
      "text/plain": [
       "['0-20', '20-30', '30-40', '40-50', '50-60', '60-70', '70-80', '80-90']"
      ]
     },
     "execution_count": 4,
     "metadata": {},
     "output_type": "execute_result"
    }
   ],
   "source": [
    "attr_vals[0]"
   ]
  },
  {
   "cell_type": "markdown",
   "metadata": {},
   "source": [
    "### Create an .arff file and write in\n",
    "Take a look at the format of .arff file. It's make up of a **file name**, serveral **attributes**, and **data**.\n",
    "```js\n",
    "@relation weather.symbolic\n",
    "\n",
    "@attribute outlook {sunny, overcast, rainy}\n",
    "@attribute temperature {hot, mild, cool}\n",
    "@attribute humidity {high, normal}\n",
    "@attribute windy {TRUE, FALSE}\n",
    "@attribute play {yes, no}\n",
    "\n",
    "@data\n",
    "sunny,hot,high,FALSE,no\n",
    "sunny,hot,high,TRUE,no\n",
    "overcast,hot,high,FALSE,yes\n",
    "```"
   ]
  },
  {
   "cell_type": "markdown",
   "metadata": {},
   "source": [
    "We use a string object to store the header first.\n",
    "\n",
    "**1. File name**"
   ]
  },
  {
   "cell_type": "code",
   "execution_count": 5,
   "metadata": {},
   "outputs": [],
   "source": [
    "header = \"\"\n",
    "header += \"@relation adult\""
   ]
  },
  {
   "cell_type": "markdown",
   "metadata": {},
   "source": [
    "**2. Attributes**"
   ]
  },
  {
   "cell_type": "code",
   "execution_count": 6,
   "metadata": {},
   "outputs": [],
   "source": [
    "header += \"\\n\\n\"\n",
    "for idx, val in enumerate(attrs):\n",
    "    string = f\"@attribute {val}\"\n",
    "    string += \" {\"\n",
    "    for v in attr_vals[idx]:\n",
    "        if v != attr_vals[idx][-1]: # not end\n",
    "            string += f\"{v}, \"\n",
    "        else: \n",
    "            string += (str(v)+\"}\") # ends\n",
    "    header += (string +\"\\n\")"
   ]
  },
  {
   "cell_type": "code",
   "execution_count": 7,
   "metadata": {},
   "outputs": [
    {
     "name": "stdout",
     "output_type": "stream",
     "text": [
      "@relation adult\n",
      "\n",
      "@attribute age {0-20, 20-30, 30-40, 40-50, 50-60, 60-70, 70-80, 80-90}\n",
      "@attribute workclass {Federal-gov, Local-gov, Private, Self-emp-inc, Self-emp-not-inc, State-gov, Without-pay}\n",
      "@attribute education {10th, 11th, 12th, 1st-4th, 5th-6th, 7th-8th, 9th, Assoc-acdm, Assoc-voc, Bachelors, Doctorate, HS-grad, Masters, Preschool, Prof-school, Some-college}\n",
      "@attribute marital-status {Divorced, Married-AF-spouse, Married-civ-spouse, Married-spouse-absent, Never-married, Separated, Widowed}\n",
      "@attribute occupation {Adm-clerical, Armed-Forces, Craft-repair, Exec-managerial, Farming-fishing, Handlers-cleaners, Machine-op-inspct, Other-service, Priv-house-serv, Prof-specialty, Protective-serv, Sales, Tech-support, Transport-moving}\n",
      "@attribute race {Amer-Indian-Eskimo, Asian-Pac-Islander, Black, Other, White}\n",
      "@attribute gender {0, 1}\n",
      "@attribute hours-per-week {0-20, 20-40, 40-60, 60-80, 80-100}\n",
      "@attribute income {<=50K, >50K}\n",
      "\n"
     ]
    }
   ],
   "source": [
    "print(header)"
   ]
  },
  {
   "cell_type": "markdown",
   "metadata": {},
   "source": [
    "**4. Write csv with header & data body**"
   ]
  },
  {
   "cell_type": "code",
   "execution_count": 8,
   "metadata": {},
   "outputs": [],
   "source": [
    "with open('adult.csv') as in_file, open(\"adult.arff\", 'w') as out_file:\n",
    "    # Header\n",
    "    out_file.write(header)\n",
    "    out_file.write('\\n@data\\n')\n",
    "    \n",
    "    # Body, exclude csv title\n",
    "    in_file.readline()\n",
    "    for line in in_file.readlines():\n",
    "        out_file.write(line)\n",
    "        \n",
    "#     out_file.write(in_file.read()) # This way will read all the file, and close it immediately."
   ]
  }
 ],
 "metadata": {
  "kernelspec": {
   "display_name": "Python 3",
   "language": "python",
   "name": "python3"
  },
  "language_info": {
   "codemirror_mode": {
    "name": "ipython",
    "version": 3
   },
   "file_extension": ".py",
   "mimetype": "text/x-python",
   "name": "python",
   "nbconvert_exporter": "python",
   "pygments_lexer": "ipython3",
   "version": "3.7.4"
  }
 },
 "nbformat": 4,
 "nbformat_minor": 2
}
