{
 "cells": [
  {
   "cell_type": "markdown",
   "metadata": {},
   "source": [
    "# HW2 Association Rules"
   ]
  },
  {
   "cell_type": "markdown",
   "metadata": {},
   "source": [
    "`NCU MIS ECT` `106403551` `呂晟維`\n",
    "1. 使⽤weka回答以下問題：\n",
    "    - (a)請嘗試著修改 adult.csv 的欄位與上圖相同，並轉換成 arff 檔使 weka可以執⾏ Association Rule，請說明使⽤⽅法以及解釋原來的檔案不能執⾏的原因︖(10%)\n",
    "    - (b) 請將 numRules 設成 5 和 10，其各別執⾏後的 Minimum support 為何，請比較兩者並說明造成其差異的原因。(15%)\n",
    "    - (c) 將 numRule 設成 10，列出前 5 條 rule(15%)\n",
    "    - (d) 如何在 Associator output 產⽣ Itemset，請截圖說明並附上 Itemset 結果。(15%)\n",
    "\n",
    "\n",
    "2. 使⽤python回答以下問題：\n",
    "    - (e) 使⽤已修改過的 adult.csv 檔，使⽤ Apriori 演算法進⾏分析,設定 confidence = 0.9、minimum support = 0.2，過程中對所有重要程式步驟進⾏截圖並加以說明，越詳盡越好。(15%)\n",
    "    - (f) 產⽣與 (c) ⼩題⼀樣的結果，列出前五條best rules，截圖並加以說明(15%)"
   ]
  },
  {
   "cell_type": "markdown",
   "metadata": {},
   "source": [
    "## 1. Weka\n",
    "\n",
    "參考資料：[以Weka對資料集進行關聯式規則之實作](https://medium.com/@bt2011aa/%E4%BB%A5weka%E5%B0%8D%E8%B3%87%E6%96%99%E9%9B%86%E9%80%B2%E8%A1%8C%E9%97%9C%E8%81%AF%E5%BC%8F%E8%A6%8F%E5%89%87%E4%B9%8B%E5%AF%A6%E4%BD%9C-e7a87c2005a9)、[Mining Association Rule with WEKA Explorer](https://storm.cis.fordham.edu/~yli/documents/CISC4631Spring16/Weka_LabTwo.pdf)\n",
    "\n",
    "### (a) 請嘗試著修改 adult.csv 的欄位與上圖相同，並轉換成 arff 檔使 weka可以執行 Association Rule，請說明使用方法以及解釋原來的檔案不能執行的原因? (10%)"
   ]
  },
  {
   "cell_type": "markdown",
   "metadata": {},
   "source": [
    "#### 純Python作法\n",
    "我也手刻一隻python程式`Csv to Arff.ipynb`可以將.csv轉換成.arff，因為考量通用性，所有的attribute都會是nominal型態。沒有提供改名功能。\n",
    "\n",
    "#### 純Weka作法\n",
    "一開始我們只有adult.csv檔案，匯入時發現Association Rules的start鍵按不下去，因為csv裡面gender的欄位資料只有0和1；0代表Male，1代表Female，但是weka判斷此欄位為numeric型態，所以執行不了。\n",
    "![](https://i.imgur.com/1FHa929.png)\n",
    "![](https://i.imgur.com/lymVlgK.png)\n",
    "\n",
    "因此需要先將numeric型態，轉成nominal型態。Weka有內鍵功能來轉換attribute的型態，我們先選取gender欄位，點選filter > nonsupervise > numeric to nominal按下執行即可。如此一來就可將0和1轉成nominal的形式。\n",
    "```python\n",
    "@attribute gender {0, 1}\n",
    "```\n",
    "![](https://i.imgur.com/tRCPfLX.png)\n",
    "\n",
    "接下來，由於gender的值還是0和1，雖然可以run但可讀性還是差了一些，所以接下來我們再把0和1改名成Male和Female，選取filter > nonsupervise > rename nominal values。按照下圖輸入參數。最後再save成.arff檔即可。\n",
    "```python\n",
    "@attribute gender {Male, Female}\n",
    "```\n",
    "![](https://i.imgur.com/nmTavlE.png)\n",
    "轉檔後的結果\n",
    "![](https://i.imgur.com/3ZcpRxR.png)"
   ]
  },
  {
   "cell_type": "markdown",
   "metadata": {},
   "source": [
    "### (b) 請將 numRules 設成 5 和 10，其各別執行後的 Minimum support 為何，請比較兩者並說明造成其差異的原因。(15%)\n",
    "\n",
    "#### numRules設成5的結果：Minimum support為0.25\n",
    "```js\n",
    "Minimum support: 0.25 (11508 instances)\n",
    "Minimum metric <confidence>: 0.9\n",
    "Number of cycles performed: 15\n",
    "```\n",
    "#### numRules設成10的結果：Minimum support為0.2\n",
    "```js\n",
    "Minimum support: 0.2 (9207 instances)\n",
    "Minimum metric <confidence>: 0.9\n",
    "Number of cycles performed: 16\n",
    "```\n",
    "解讀一下這份報表，weka一開始從support = 1找confidence > 0.9的rules。演算法一共重複執行了Number of cycles performed次才停下來，停下來的情形有2種，一是找到指定數目筆的rules(5或10個)，二是Minimum support下降至指定值(0.2)時還未找齊rules。\n",
    "\n",
    "當numrule = 5時，演算法重複執行了15次便集齊5個rules了(大於等於5個)，第15次的Minimum support是0.25；而要再進入第16次cycle才能找到10個rules，Minimum support為0.25 - 0.05 = 0.2。\n",
    "\n",
    "另外由於rules的排序是照confidence的大小來排，因此每條規則的rank會不太一樣，像是rules5的第一條規則在rule10中是第二條。\n",
    "\n",
    "* **Rule 5的全部截圖**\n",
    "![](https://i.imgur.com/2Cn2XQt.png)\n",
    "* **Rule 10的全部截圖**\n",
    "![](https://i.imgur.com/hKSdVgh.png)"
   ]
  },
  {
   "cell_type": "markdown",
   "metadata": {},
   "source": [
    "### (c) 將 numRule 設成 10，列出前 5 條 rule(15%)"
   ]
  },
  {
   "cell_type": "markdown",
   "metadata": {},
   "source": [
    "- 這5個rules的lift值(提升度)都 > 1，Conviction(conv確信度)值也很大，代表前因和後果之間的關係相當密切。\n",
    "- 這5個rules的support count也都在10000筆資料上下，在46000筆樣本中算是多數了，因此結果值得信賴。\n",
    "    \n",
    "#### Rules如下：\n",
    "    \n",
    "1. marital-status=Never-married hours-per-week=20-40 9669 ==> income= <=50K 9368    \n",
    "<conf:(0.97)> lift:(1.29) lev:(0.05) [2098] conv:(7.94)\n",
    "```\n",
    "→ 沒有結婚 ∩ 工時20~40小時的人，有0.97的比例，他們的收入小於50K\n",
    "```           \n",
    "2. workclass=Private marital-status=Never-married 12243 ==> income= <=50K 11755    \n",
    "<conf:(0.96)> lift:(1.28) lev:(0.06) [2549] conv:(6.21)\n",
    "```\n",
    "→ 在私人機構工作 ∩ 沒有結婚的人，有0.96的比例，他們的收入小於50K\n",
    "```             \n",
    "3. workclass=Private marital-status=Never-married race=White 10134 ==> income= <=50K 9702    \n",
    "<conf:(0.96)> lift:(1.27) lev:(0.05) [2082] conv:(5.81)\n",
    "```\n",
    "→ 在私人機構工作 ∩ 沒有結婚 ∩ 是白人，有0.96的比例，他們的收入小於50K\n",
    "```      \n",
    "4. marital-status=Never-married 14875 ==> income= <=50K 14153    \n",
    "<conf:(0.95)> lift:(1.27) lev:(0.06) [2968] conv:(5.1)\n",
    "```\n",
    "→ 沒有結婚的人，有0.95的比例，他們的收入小於50K\n",
    "```  \n",
    "5. marital-status=Never-married race=White 12228 ==> income= <=50K 11590    \n",
    "<conf:(0.95)> lift:(1.26) lev:(0.05) [2396] conv:(4.75)\n",
    "```\n",
    "→ 沒有結婚 ∩ 是白人，有0.95的比例，他們的收入小於50K\n",
    "```  \n"
   ]
  },
  {
   "cell_type": "markdown",
   "metadata": {},
   "source": [
    "### (d) 如何在 Associator output 產生 Itemset，請截圖說明並附上 Itemset 結果。(15%)\n",
    "\n",
    "將output itemset的選項設成True即可看到frequent itemset的output。Itemset會依support值高到低(從1.0開始)尋找support值 >= min_sup 的集合，每個循環會從一個元素且符合min_sup的集合找起，再找兩個元素的集合、三個元素的集合、四個元素的集合...。再依每種集合(itemsets)的confidence來找尋規則，confidence即是條件機率的意思，當confidence >= 0.9便是一條rule。\n",
    "\n",
    "![](https://i.imgur.com/K2Q42LF.png)\n",
    "\n",
    "Rule10的輸出如下：\n",
    "```js\n",
    "Generated sets of large itemsets:\n",
    "\n",
    "Size of set of large itemsets L(1): 15\n",
    "\n",
    "Large Itemsets L(1):\n",
    "age=20-30 11487\n",
    "age=30-40 12538\n",
    "age=40-50 10182\n",
    "workclass=Private 33906\n",
    "education=HS-grad 14972\n",
    "education=Some-college 10036\n",
    "marital-status=Never-married 14875\n",
    "marital-status=Married-civ-spouse 21451\n",
    "race=White 39444\n",
    "gender=Male 31114\n",
    "gender=Female 14919\n",
    "hours-per-week=20-40 28350\n",
    "hours-per-week=40-60 12403\n",
    "income=<=50K 34611\n",
    "income=>50K 11422\n",
    "\n",
    "Size of set of large itemsets L(2): 38\n",
    "\n",
    "Large Itemsets L(2):\n",
    "age=20-30 workclass=Private 9649\n",
    "age=20-30 race=White 9650\n",
    "age=20-30 income=<=50K 10513\n",
    "age=30-40 workclass=Private 9370\n",
    "age=30-40 race=White 10636\n",
    "workclass=Private education=HS-grad 11682\n",
    "...\n",
    "\n",
    "Size of set of large itemsets L(3): 29\n",
    "\n",
    "Large Itemsets L(3):\n",
    "workclass=Private education=HS-grad race=White 9907\n",
    "workclass=Private education=HS-grad income=<=50K 9983\n",
    "...\n",
    "\n",
    "Size of set of large itemsets L(4): 8\n",
    "\n",
    "Large Itemsets L(4):\n",
    "workclass=Private marital-status=Never-married race=White income=<=50K 9702\n",
    "workclass=Private marital-status=Married-civ-spouse race=White gender=Male 11625\n",
    "...\n",
    "```"
   ]
  },
  {
   "cell_type": "markdown",
   "metadata": {},
   "source": [
    "## 2. 使用Python回答以下問題：\n",
    "    "
   ]
  },
  {
   "cell_type": "markdown",
   "metadata": {},
   "source": [
    "### (e) 使用已修改過的 adult.csv 檔，使用 Apriori 演算法進行分析,設定 confidence = 0.9、minimum support = 0.2，過程中對所有重要程式步驟進行截圖並加以說明，越詳盡越好。(15%)\n",
    "\n",
    "可以直接跳至程式的.ipynb，有列出所有的參考資料和詳盡程式解說。\n",
    "\n",
    "我們程式分成2步驟，資料前處理和演算法執行，最後我們會解析結果：\n",
    "\n",
    "- **整理資料**\n",
    "\n",
    "利用pandas讀csv檔，apriori的輸入和輸出都是list型態的資料結構，所以把df轉成list。\n",
    "![](https://i.imgur.com/LuM3Fyi.png)\n",
    "![](https://i.imgur.com/jxbQQ4i.png)\n",
    "\n",
    "\n",
    "- **apriori演算法**\n",
    "\n",
    "重點程式碼是apriori方法，輸入值有min_support= 0.2, min_confidence= 0.9。\n",
    "```python\n",
    "from apyori import apriori\n",
    "\n",
    "#建立rule, 設定參數 #變成list\n",
    "rules = list(apriori(data, min_support= 0.2, min_confidence= 0.9))\n",
    "```\n",
    "![](https://i.imgur.com/2qPKUEt.png)\n",
    "\n",
    "- **解析結果**\n",
    "\n",
    "根據以下屬性可以整理出得出的規則們\n",
    "    - items_base – 關聯規則中的分母項集 (ex買了啤酒)\n",
    "    - items_add –  關聯規則中的分子項集 (ex跟著買尿布)\n",
    "![](https://i.imgur.com/SeJzhmD.png)"
   ]
  },
  {
   "cell_type": "markdown",
   "metadata": {},
   "source": [
    "### (f) 產生與 (c) 小題一樣的結果，列出前五條best rules，截圖並加以說明(15%)"
   ]
  },
  {
   "cell_type": "markdown",
   "metadata": {},
   "source": [
    "我們發現python程式的結果和weka的結果一模一樣，第一條rule的confidence = 0.968870 = 9368 / 9669，因為weka只四捨五入到0.97，若把樣本數相除則和python結果相符。關聯的規則是\"沒有結婚 ∩ 工時20~40小時的人，有0.97的比例，他們的收入小於50K\"。\n",
    "\n",
    "其他四項不加贅述了。偷偷一提python的apriori產生的rules的結果超級難解讀(´_ゝ`)，規則也都沒有直接列出的因果關係。下表是額外查資料才做出的關係。"
   ]
  },
  {
   "cell_type": "markdown",
   "metadata": {},
   "source": [
    "![](https://i.imgur.com/nAhLMpx.png)"
   ]
  }
 ],
 "metadata": {
  "kernelspec": {
   "display_name": "Python 3",
   "language": "python",
   "name": "python3"
  },
  "language_info": {
   "codemirror_mode": {
    "name": "ipython",
    "version": 3
   },
   "file_extension": ".py",
   "mimetype": "text/x-python",
   "name": "python",
   "nbconvert_exporter": "python",
   "pygments_lexer": "ipython3",
   "version": "3.7.4"
  }
 },
 "nbformat": 4,
 "nbformat_minor": 2
}
