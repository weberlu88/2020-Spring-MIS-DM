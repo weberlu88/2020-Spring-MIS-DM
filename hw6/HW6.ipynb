{
 "cells": [
  {
   "cell_type": "markdown",
   "metadata": {},
   "source": [
    "# HW6 Cost-Benefit Analysis\n",
    "\n",
    "## Weka 部分"
   ]
  },
  {
   "cell_type": "markdown",
   "metadata": {},
   "source": [
    "使用 weka 對 Social_Network_Ads.csv 進行 naive bayes 分析，選擇 percentage split 66% ，過程中對所有重要步驟進行截圖並加以說明，越詳盡好：\n",
    "- (a) 使用 cost-sensitive-learning，將 cost matrix 設定如下圖，列出 total cost 及 average cost，截圖並詳細說明該數字是如何計算出來的 (20%)\n",
    "\n",
    "|  | Prediced (a) | Prediced (b)  |\n",
    "|---|---|---|\n",
    "| **Actual (a)** | 0.0  | 5.0  |\n",
    "| **Actual (b)** | 3.0  | 0.0  | \n",
    "\n",
    "- (b) 對購買者（purchase = 1）進⾏ cost/benefit analysis，cost matrix ⼀樣設定如下圖，說明最佳的 sample size rate 是多少︖截圖並詳細說明 (20%)\n",
    "\n",
    "- (c) 承上題，在最佳的 sample size rate 情況下，混淆矩陣長怎樣︖ cost 為多少︖截圖並詳細說明該數字是如何計算出來的 (10%)"
   ]
  },
  {
   "cell_type": "markdown",
   "metadata": {},
   "source": [
    "### (a) 使用 cost-sensitive-learning，將 cost matrix 設定如下圖，列出 total cost 及 average cost，截圖並詳細說明該數字是如何計算出來的 (20%)\n",
    "\n",
    "|  | Prediced (a) | Prediced (b)  |\n",
    "|---|---|---|\n",
    "| **Actual (a)** | 0.0  | 5.0  |\n",
    "| **Actual (b)** | 3.0  | 0.0  | "
   ]
  },
  {
   "cell_type": "markdown",
   "metadata": {},
   "source": [
    "操作步驟如下:\n",
    "1. 選擇 naive bayes 分析\n",
    "2. 選擇資料 percentage split 66% > 將 200 筆原始資料分成 264 筆訓練資料和 136 筆測試資料。\n",
    "3. More options > 選擇 cost-sensitive evaluation > 填上如上表的 cost 表格\n",
    "4. 執行後可以看到 Total Cost 和 Average Cost:\n",
    "    ```js\n",
    "    === Summary ===\n",
    "    Total Cost                              70     \n",
    "    Average Cost                             0.5147\n",
    "\n",
    "    === Confusion Matrix ===\n",
    "      a  b   <-- classified as\n",
    "     40 11 |  a = 1\n",
    "      5 80 |  b = 0\n",
    "\n",
    "    ```\n",
    "5. 算法: \n",
    "    * `Total Cost = Confusion Matrix 內積 Cost Matrix = 0*40 + 5*11 + 3*5 + 0*80 = 70`\n",
    "    * `Average Cost = Total Cost / Count of Test data = 70/136 = 0.5147`\n",
    "    \n",
    "![](https://i.imgur.com/qb5Gpse.png)"
   ]
  },
  {
   "cell_type": "markdown",
   "metadata": {},
   "source": [
    "### (b) 對購買者（purchase = 1）進⾏ cost/benefit analysis，cost matrix ⼀樣設定如下圖，說明最佳的 sample size rate 是多少︖截圖並詳細說明 (20%)\n",
    "\n",
    "操作:\n",
    "* 對結果右鍵 cost/benefit analysis > purchase = 1\n",
    "* 填好 Cost 矩陣\n",
    "* 按下 Minimize Cost\n",
    "* 結果顯示最佳抽樣比為 Sample size rate = 42%，在此抽樣比率之下，有蒐集到 94% 的潛在顧客 (會購買的)\n",
    "* 算法: 94% of target = Recall = TP rate = 48/48+3 (利用左下的混淆矩陣)\n",
    "* Lift chart 顯示在最佳抽樣比 42% 之下，lift = 2.2；Threshold = 0.2639 表示機率為 0.2639 以上的顧客都是要行銷的對象。\n",
    "\n",
    "![](https://i.imgur.com/yVRiH7N.png)"
   ]
  },
  {
   "cell_type": "markdown",
   "metadata": {},
   "source": [
    "### (c) 承上題，在最佳的 sample size rate 情況下，混淆矩陣長怎樣︖ cost 為多少︖截圖並詳細說明該數字是如何計算出來的 (10%)\n",
    "\n",
    "上圖左架角的即為在最佳的 sample size rate (42%)下的 Confusion Matrix，此時 Cost 為 45。\n",
    "\n",
    "|  | Prediced (a) | Prediced (b)  |\n",
    "|---|---|---|\n",
    "| **Actual (a)** | 48  | 3  |\n",
    "| **Actual (b)** | 10  | 75  | \n",
    "\n",
    "Cost 的算法:\n",
    "*  Cost = Confusion Matrix 內積 Cost Matrix = `10*3 + 3*5` = `45`\n",
    "*  Random = 全部抽樣的 Cost = `85 * 3` = `255`\n",
    "*  Gain = Random - Cost"
   ]
  },
  {
   "cell_type": "markdown",
   "metadata": {},
   "source": [
    "## Python 部分\n",
    "使用 python 對 Social_Network_Ads.csv 進⾏ naive bayes 分析，過\n",
    "程中對所有重要程式步驟進行截圖並加以說明，越詳盡越好：\n",
    "\n",
    "- (d) 設test_size = 0.33，random_state = 1，進⾏ naive bayes 分析後，列出準確率及TP Rate/FP Rate (10%)\n",
    "- (e) 繪出 ROC Curve 並計算出 AUC (20%)\n",
    "- (f) 繪出 lift chart (又稱Cumulative Gain Chart) (X軸: sample size rate; Y軸: TP rate) (10%)\n",
    "- (g) 繪出 lift curve (X軸: sample size rate; Y軸: Lift) (10%)"
   ]
  },
  {
   "cell_type": "markdown",
   "metadata": {},
   "source": [
    "### PS: 可以直接看 .ipynb 檔，因為以下是直接截圖貼上的"
   ]
  },
  {
   "cell_type": "markdown",
   "metadata": {},
   "source": [
    "### (d) 設test_size = 0.33，random_state = 1，進⾏ naive bayes 分析後，列出準確率及TP Rate/FP Rate (10%)\n",
    "\n",
    "#### 讀入 csv 並把 nom 型態轉成數值型態，因 naive bayes 只接受數值資料\n",
    "![](https://i.imgur.com/RklxTR6.png)\n",
    "\n",
    "#### 切分 train(0.67) test(0.33) 資料再訓練模型\n",
    "![](https://i.imgur.com/dr5Su1u.png)\n",
    "\n",
    "#### Traing 的準確度\n",
    "![](https://i.imgur.com/6qwUQGZ.png)\n",
    "\n",
    "#### Testing 的準確度和 TP Rate/FP Rate\n",
    "![](https://i.imgur.com/h1pnCza.png)\n",
    "\n",
    "![](https://i.imgur.com/RSAdale.png)"
   ]
  },
  {
   "cell_type": "markdown",
   "metadata": {},
   "source": [
    "### (e) 繪出 ROC Curve 並計算出 AUC (20%)\n",
    "![](https://i.imgur.com/zBCHHQZ.png)\n",
    "\n",
    "### (f) 繪出 lift chart (又稱Cumulative Gain Chart) (X軸: sample size rate; Y軸: TP rate) (10%)\n",
    "![](https://i.imgur.com/lrrt25G.png)\n",
    "\n",
    "### (g) 繪出 lift curve (X軸: sample size rate; Y軸: Lift) (10%)\n",
    "![](https://i.imgur.com/BgzmHvm.png)"
   ]
  }
 ],
 "metadata": {
  "kernelspec": {
   "display_name": "Python 3",
   "language": "python",
   "name": "python3"
  },
  "language_info": {
   "codemirror_mode": {
    "name": "ipython",
    "version": 3
   },
   "file_extension": ".py",
   "mimetype": "text/x-python",
   "name": "python",
   "nbconvert_exporter": "python",
   "pygments_lexer": "ipython3",
   "version": "3.7.4"
  }
 },
 "nbformat": 4,
 "nbformat_minor": 2
}
