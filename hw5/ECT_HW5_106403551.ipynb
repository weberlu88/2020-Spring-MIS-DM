{
 "cells": [
  {
   "cell_type": "markdown",
   "metadata": {},
   "source": [
    "# 作業五"
   ]
  },
  {
   "cell_type": "markdown",
   "metadata": {},
   "source": [
    "1. 請用 python 依照步驟對 BreastCancer.csv 進行 KMeans 分析，過程中對所有重要程式步驟進行截圖並加以說明。 (60%)\n",
    "    - (a) 將 radius_mean 及 area_mean 切為 feature diagnosis 切為 target\n",
    "    - (b) 用 cluster.Means 設 n_clusters=2\n",
    "    - (c) 用 fit_predict 對 feature 進行分類\n",
    "    - (d) 運用 matplotlib 中的 scatter 圖， x 軸設為 radius_mean y 軸設為 area_mean，c 設為分群結果，印出分類圖形\n",
    "    - (e) 移除 area_mean 中大於 2000 的資料\n",
    "    - (f) 重複上述動作印出分類圖形\n",
    "2. 請用 weka 對 BreastCancer.csv，進行 simplekMeans 分析 Cluster mode 設為 Use training set，numClusters 設為 2。 (40%)\n",
    "    - (a) 印出 KMeans 分類結果兩類的數目\n",
    "    - (b) 運用 Visualize cluster 得到與上述 python 印出之圖形(未進行刪減前)類似的結果"
   ]
  },
  {
   "cell_type": "markdown",
   "metadata": {},
   "source": [
    "## Python部分"
   ]
  },
  {
   "cell_type": "markdown",
   "metadata": {},
   "source": [
    "### (a) 將 radius_mean 及 area_mean 切為 feature diagnosis 切為 target\n"
   ]
  },
  {
   "cell_type": "markdown",
   "metadata": {},
   "source": [
    "### (b) 用 cluster.Means 設 n_clusters=2\n"
   ]
  },
  {
   "cell_type": "markdown",
   "metadata": {},
   "source": [
    "### (c) 用 fit_predict 對 feature 進行分類\n"
   ]
  },
  {
   "cell_type": "markdown",
   "metadata": {},
   "source": [
    "### (d) 運用 matplotlib 中的 scatter 圖， x 軸設為 radius_mean y 軸設為 area_mean，c 設為分群結果，印出分類圖形\n"
   ]
  },
  {
   "cell_type": "markdown",
   "metadata": {},
   "source": [
    "### (e) 移除 area_mean 中大於 2000 的資料\n"
   ]
  },
  {
   "cell_type": "markdown",
   "metadata": {},
   "source": [
    "### (f) 重複上述動作印出分類圖形\n"
   ]
  },
  {
   "cell_type": "markdown",
   "metadata": {},
   "source": [
    "1. 請用 python 依照步驟對 BreastCancer.csv 進行 KMeans 分析，過程中對所有重要程式步驟進行截圖並加以說明。 (60%)\n",
    "    - (a) 將 radius_mean 及 area_mean 切為 feature diagnosis 切為 target\n",
    "    - (b) 用 cluster.Means 設 n_clusters=2\n",
    "    - (c) 用 fit_predict 對 feature 進行 分類\n",
    "    - (d) 運用 matplotlib 中的 scatter 圖， x 軸設為 radius_mean y 軸設為 area_mean，c 設為分群結果，印出分類圖形\n",
    "    - (e) 移除 area_mean 中大於 2000 的資料\n",
    "    - (f) 重複上述動作印出分類圖形\n",
    "2. 請用 weka 對 BreastCancer.csv，進行 simplekMeans 分析 Cluster mode 設為 Use training set，numClusters 設為 2。 (40%)\n",
    "    - (a) 印出 KMeans 分類結果兩類的數目\n",
    "    - (b) 運用 Visualize cluster 得到與上述 python 印出之圖形(未進行刪減前)類似的結果"
   ]
  }
 ],
 "metadata": {
  "kernelspec": {
   "display_name": "Python 3",
   "language": "python",
   "name": "python3"
  },
  "language_info": {
   "codemirror_mode": {
    "name": "ipython",
    "version": 3
   },
   "file_extension": ".py",
   "mimetype": "text/x-python",
   "name": "python",
   "nbconvert_exporter": "python",
   "pygments_lexer": "ipython3",
   "version": "3.6.5"
  }
 },
 "nbformat": 4,
 "nbformat_minor": 2
}
