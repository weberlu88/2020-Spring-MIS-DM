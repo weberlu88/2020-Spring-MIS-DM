{
 "cells": [
  {
   "cell_type": "markdown",
   "metadata": {},
   "source": [
    "# Assignment_01\n",
    "\n",
    "1. 用 Weka 軟體對 mushrooms.arff 利用 Naïve Bayes 進行 Supervised learning 選擇 ”Use training set”, 設定 Attribute: type 為 Output, 在過程中對重要步驟截圖加以說明並回答以下問題：\n",
    "\n",
    "    - (a) 解釋 Classifier Output, Test data 的錯誤率為多少？有多少 Test dataset instances 被分類到有毒 poisonous 但實際上屬於可食用的 edible 請利用 Confusion matrix 解釋。(25%)\n",
    "    \n",
    "    - (b) 在 Output predictions 結果中 \"+\" 代表的意義為何，請截圖並解釋。(10%)\n",
    "   \n",
    "    - (c) 請使用 Visualize Classifier Errors, 解釋此圖與 Confusion matrix之間的關係。(15%)"
   ]
  },
  {
   "cell_type": "markdown",
   "metadata": {},
   "source": [
    "2. 用 python 對 mushrooms.csv 進行 Supervised learning 中的 Naïve Bayes 分析 並回答以下問題：\n",
    "\n",
    "    - (a) 在過程中對所有重要程式步驟進行截圖並 加以說明，越詳盡越好。 (15%)\n",
    "    - (b) 請問 mushrooms 資料集中共有多少 instance? 是否包含空值的欄位(null)? (10%)\n",
    "    - (c) 請問欄位 stalk_color_above_ring 有幾種不同的 value? (5%)\n",
    "    - (d) 請利用 metrics.confusion_matrix() 呈現出混淆矩陣，並截圖加以說明。 (10%)\n",
    "    - (e) 請利用 metrics.classification_report 列出模型的準確率並與 Weka 的結果比較何者較高? (10%)\n",
    "    \n",
    "    \n",
    "繳交期限 : 3/25 (三) 中午 12:00   \n",
    "請轉檔為 PDF 格式 , 檔名為 ECT_HW1_學號_版本.pdf並同時附上 python 的 .ipynb 檔，命名格式同上。"
   ]
  },
  {
   "cell_type": "markdown",
   "metadata": {},
   "source": [
    "## Weka\n",
    "### (a) 錯誤率 & Confusion matrix\n",
    "Weka的Input和參數設定如下：\n",
    "![](https://i.imgur.com/MbpV4tF.jpg)\n",
    "\n",
    "我們使用training set來作為testing data來跑Naïve Bayes方法，使用weka跑出來的部分result如下：\n",
    "```js\n",
    "=== Summary ===\n",
    "\n",
    "Correctly Classified Instances        7984               98.2767 %\n",
    "Incorrectly Classified Instances       140                1.7233 % <-- 錯誤率\n",
    "Kappa statistic                          0.9655\n",
    "Mean absolute error                      0.0222\n",
    "Root mean squared error                  0.1209\n",
    "Relative absolute error                  4.439  %\n",
    "Root relative squared error             24.2041 %\n",
    "Total Number of Instances             8124     \n",
    "\n",
    "=== Confusion Matrix ===\n",
    "\n",
    "    a    b   <-- classified as\n",
    " 3822   94 |    a = poisonous\n",
    "   46 4162 |    b = edible\n",
    "```\n",
    "由Incorrectly Classified Instances得知，其中錯誤率為**1.7233 %**，8124筆資料中共有140個錯誤。正確率是98.2767 %，有7984筆正確的預測。\n",
    "\n",
    "再透過Confusion Matrix的結果判斷，當香菇為可食用的edible，但是被誤分類為有毒的poisonous的情況是Matrix中的左下角的區塊，數量有**46**個。\n",
    "\n",
    "Confusion Matrix詳細的解說在第c小題會介紹。"
   ]
  },
  {
   "cell_type": "markdown",
   "metadata": {},
   "source": [
    "## (b) 在 Output predictions 結果中 \"+\" 代表的意義為何，請截圖並解釋。\n",
    "勾選Output predictions為Plane text形式，部分的output結果如下：\n",
    ">附註 1:p的意思是label是p(有毒的)，轉成數值代號1。\n",
    "\n",
    "```js\n",
    "=== Predictions on training set ===\n",
    "\n",
    "    inst#     actual  predicted error prediction\n",
    "        1        1:p        1:p       0.985 \n",
    "        2        2:e        2:e       1 \n",
    "        3        2:e        2:e       1 \n",
    "        4        1:p        1:p       0.972 \n",
    "        5        2:e        2:e       1 \n",
    "        6        2:e        2:e       1 \n",
    "        7        2:e        2:e       1 \n",
    "        8        2:e        2:e       1 \n",
    "        9        1:p        1:p       0.973 \n",
    "       10        2:e        2:e       1 \n",
    "       ...\n",
    "     4107        1:p        2:e   +   1 \n",
    "       ...\n",
    "     4277        2:e        1:p   +   0.906 \n",
    "       ...\n",
    "```\n",
    "\"+\"號代表在Testing的過程中有error，會在error欄位顯示。\n",
    "\n",
    "可以發現前10筆的資料都預測正確，一直到第4107筆測試資料才出現第一個Prediction error，他的真實值是1:p，是有毒的香菇，但是Naïve Bayes模型卻預測錯誤成2:e可食用的，屬於FN(false negative)的錯誤。然後第4277筆測試資料出現第二個Prediction error，他的真實值是2:e，是有可食用的香菇，但模型預測他為有毒的，屬於FP(false positive)的錯誤。\n",
    "\n",
    "附註：預測錯誤都是false類型。"
   ]
  },
  {
   "cell_type": "markdown",
   "metadata": {},
   "source": [
    "## (c) 請使用 Visualize Classifier Errors, 解釋此圖與 Confusion matrix之間的關係。\n",
    "\n",
    "Confusion Matrix的是一個Table，表示Classerifier預測的效能。我們也可以透過圖示(visual classifier errors)來看到所有分布在2維平面上的預測值和真實值的關係，將虛擬的演算法用圖像化的方式呈現他的效能。\n",
    "\n",
    "比較一下Confusion Matrix和Visualized的輸出，如果將原本的Confusion Matrix轉換一下位置/方向，讓xy軸跟Visualized error的一樣。\n",
    "\n",
    "`原本`\n",
    "```js\n",
    "    p    e   <-- classified as\n",
    " 3822   94 |    p = poisonous\n",
    "   46 4162 |    e = edible\n",
    "   \n",
    " (Predicted)\n",
    "   TP   FN | (Actual) \n",
    "   FP   TN |\n",
    "```\n",
    "`調整後`\n",
    "```js\n",
    "  (Actual)  \n",
    "    p    e\n",
    "   FP   TN | e (Predicted) \n",
    "   TP   FN | p  p = positive\n",
    "   --------\n",
    "   46 4162 | e\n",
    " 3822   94 | p\n",
    "```\n",
    "`Visualized error 正確的預測`是用黑筆框起來的2塊區域，左下角是TP、有上角是TN，True開頭的都是正確的預測，使用叉叉來表示。而方形則是錯誤的預測。由於我們將Matrix的xy軸方向顛倒了，數值都可以直接對上Matrix的圖示。\n",
    "![](https://i.imgur.com/4sIYMaw.jpg)"
   ]
  },
  {
   "cell_type": "markdown",
   "metadata": {},
   "source": [
    "## Python"
   ]
  },
  {
   "cell_type": "markdown",
   "metadata": {},
   "source": [
    "由於第a小題的內容比較多，我放到最後面說明~\n",
    "\n",
    "### (b) 請問 mushrooms 資料集中共有多少 instance? 是否包含空值的欄位(null)? (10%)\n",
    "\n",
    "這邊使用`dataFrame.info`看有幾筆資料、每個欄位的資料型別是什麼(int, float..)、有無空值(null)的存在、佔據多少記憶體。\n",
    "\n",
    "資料集中共有**8123**筆資料，沒有包含空值的欄位。\n",
    "``` python\n",
    ">>> data.info()\n",
    "\n",
    "<class 'pandas.core.frame.DataFrame'>\n",
    "RangeIndex: 8124 entries, 0 to 8123              <-- 有8123筆instance\n",
    "Data columns (total 12 columns):                 <-- 有12種attribute\n",
    "type                      8124 non-null object   <-- 通通都沒有空值\n",
    "cap_shape                 8124 non-null object\n",
    "cap_surface               8124 non-null object\n",
    "cap_color                 8124 non-null object\n",
    "odor                      8124 non-null object\n",
    "stalk_shape               8124 non-null object\n",
    "stalk_color_above_ring    8124 non-null object\n",
    "stalk_color_below_ring    8124 non-null object\n",
    "ring_number               8124 non-null object\n",
    "ring_type                 8124 non-null object\n",
    "population                8124 non-null object\n",
    "habitat                   8124 non-null object\n",
    "dtypes: object(12)\n",
    "memory usage: 761.8+ KB\n",
    "```"
   ]
  },
  {
   "cell_type": "markdown",
   "metadata": {},
   "source": [
    "### (c) 請問欄位 stalk_color_above_ring 有幾種不同的 value? (5%)\n",
    "\n",
    "這邊使用`dataFrame.describe`看資料的平均值、分佈情況、是否有資料傾斜Skew的問題。\n",
    "\n",
    "欄位`stalk_color_above_ring`有9個unique的value，代表在此欄位8124筆資料中只有9種不同的值，代表9種不同的顏色。眾數是w(white)白色，出現4464次。\n",
    "![](https://i.imgur.com/HdHZfKg.jpg)"
   ]
  },
  {
   "cell_type": "markdown",
   "metadata": {},
   "source": [
    "### (d) 請利用 metrics.confusion_matrix() 呈現出混淆矩陣，並截圖加以說明。 (10%)\n",
    "由於官方文件並沒有說明postive和negative的位置，所以我們參考維基百科來做解釋。\n",
    "\n",
    "得知預測正確(True)的有3296+3423=6719筆資料，預測錯誤(False)的有912+493=1405筆資料。其中左上角的3296筆是True Positive，實際有毒預測也有毒；右上角的912筆是False Negative，實際有毒但是預測可以吃，剩下以此類推。\n",
    "```\n",
    "    (Predicted)\n",
    "       p     n\n",
    "     True False | p (Actual) \n",
    "    False  True | n\n",
    "    -----------\n",
    "      TP    FN  | p\n",
    "      FP    TN  | n\n",
    "    \n",
    "   p = positive = posinious = 1\n",
    "   n = negative = edible = 0\n",
    "```\n",
    "程式碼和輸出：\n",
    "\n",
    "```python\n",
    ">>> print(metrics.confusion_matrix(expected, predicted))\n",
    "\n",
    "[[3296  912]\n",
    " [ 493 3423]]\n",
    "```"
   ]
  },
  {
   "cell_type": "markdown",
   "metadata": {},
   "source": [
    "### (e) 請利用 metrics.classification_report 列出模型的準確率並與 Weka 的結果比較何者較高? (10%)\n",
    "函數用於顯示主要分類指標的文本報告．在報告中顯示每個類的精確度，召回率，F1值等信息。我們得知python的精確度為0.83，沒有weka的0.98高。但是由於是使用Training set來做測試weka的準確率太高反而有overfitting的問題。\n",
    "```python\n",
    ">>> from sklearn import metrics\n",
    ">>> print(metrics.classification_report(expected, predicted))\n",
    "\n",
    "              precision    recall  f1-score   support\n",
    "\n",
    "           0       0.87      0.78      0.82      4208 <-- edible\n",
    "           1       0.79      0.87      0.83      3916 <-- posinious\n",
    "\n",
    "    accuracy                           0.83      8124 <-- 準確率\n",
    "   macro avg       0.83      0.83      0.83      8124\n",
    "weighted avg       0.83      0.83      0.83      8124\n",
    "```"
   ]
  },
  {
   "cell_type": "markdown",
   "metadata": {},
   "source": [
    "### (a) 在過程中對所有重要程式步驟進行截圖並 加以說明，越詳盡越好。 (15%)\n",
    "\n",
    "於python檔有詳盡的註解和官方文件的連結，這裡就只講解流程了。\n",
    "\n",
    "首先使用pandas讀入csv檔案，並切分成input和output兩個dataFrame。因為Naive Bayes需要將nominal的資料轉成數值資料(numeric)，所以要再進一步整理資料，因此使用`le.fit_transform()`方法。"
   ]
  }
 ],
 "metadata": {
  "kernelspec": {
   "display_name": "Python 3",
   "language": "python",
   "name": "python3"
  },
  "language_info": {
   "codemirror_mode": {
    "name": "ipython",
    "version": 3
   },
   "file_extension": ".py",
   "mimetype": "text/x-python",
   "name": "python",
   "nbconvert_exporter": "python",
   "pygments_lexer": "ipython3",
   "version": "3.6.5"
  }
 },
 "nbformat": 4,
 "nbformat_minor": 2
}
