{
 "cells": [
  {
   "cell_type": "markdown",
   "metadata": {},
   "source": [
    "# Assignment_01\n",
    "\n",
    "1. 用 Weka 軟體對 mushrooms.arff 利用 Naïve Bayes 進行 Supervised learning 選擇 ”Use training set”, 設定 Attribute: type 為 Output, 在過程中對重要步驟截圖加以說明並回答以下問題：\n",
    "\n",
    "    - (a) 解釋 Classifier Output, Test data 的錯誤率為多少？有多少 Test dataset instances 被分類到有毒 poisonous 但實際上屬於可食用的 edible 請利用 Confusion matrix 解釋。(25%)\n",
    "    \n",
    "    - (b) 在 Output predictions 結果中代表的意義為何，請截圖並解釋。(10%)\n",
    "   \n",
    "    - (c) 請使用 Visualize Classifier Errors, 解釋此圖與 Confusion matrix之間的關係。(15%)"
   ]
  },
  {
   "cell_type": "markdown",
   "metadata": {},
   "source": [
    "2. 用 python 對 mushrooms.csv 進行 Supervised learning 中的 Naïve Bayes 分析 並回答以下問題：\n",
    "\n",
    "    - (a) 在過程中對所有重要程式步驟進行截圖並 加以說明，越詳盡越好。 (15%)\n",
    "    - (b) 請問 mushrooms 資料集中共有多少 instance? 是否包含空值的欄位(null)? (10%)\n",
    "    - (c) 請問欄位 stalk_color_above_ring 有幾種不同的 value? (5%)\n",
    "    - (d) 請利用 metrics.confusion_matrix() 呈現出混淆矩陣，並截圖加以說明。 (10%)\n",
    "    - (e) 請利用 metrics.classification_report 列出模型的準確率並與 Weka 的結果比較何者較高? (10%)\n",
    "    \n",
    "    \n",
    "繳交期限 : 3/25 (三) 中午 12:00   \n",
    "請轉檔為 PDF 格式 , 檔名為 ECT_HW1_學號_版本.pdf並同時附上 python 的 .ipynb 檔，命名格式同上。"
   ]
  },
  {
   "cell_type": "markdown",
   "metadata": {},
   "source": [
    "## Weka\n",
    "### (a) \n",
    "我們使用training set來作為testing data來跑Naïve Bayes方法，使用weka跑出來的部分result如下：\n",
    "```js\n",
    "=== Summary ===\n",
    "\n",
    "Correctly Classified Instances        7984               98.2767 %\n",
    "Incorrectly Classified Instances       140                1.7233 %\n",
    "Kappa statistic                          0.9655\n",
    "Mean absolute error                      0.0222\n",
    "Root mean squared error                  0.1209\n",
    "Relative absolute error                  4.439  %\n",
    "Root relative squared error             24.2041 %\n",
    "Total Number of Instances             8124     \n",
    "\n",
    "=== Confusion Matrix ===\n",
    "\n",
    "    a    b   <-- classified as\n",
    " 3822   94 |    a = poisonous\n",
    "   46 4162 |    b = edible\n",
    "```\n",
    "由Incorrectly Classified Instances得知，其中錯誤率為**1.7233 %**，8124筆資料中共有140個錯誤。\n",
    "\n",
    "再透過Confusion Matrix的結果判斷，當香菇為可食用的edible，但是被誤分類為有毒的poisonous的情況是Matrix中的右上角的區塊，數量有**94**個。\n",
    "\n",
    "Confusion Matrix的意義是，...。我們也可以透過圖示(visual classifier errors)來看到所有分布在2維平面上的預測值和真實值的關係。\n"
   ]
  },
  {
   "cell_type": "code",
   "execution_count": null,
   "metadata": {},
   "outputs": [],
   "source": []
  }
 ],
 "metadata": {
  "kernelspec": {
   "display_name": "Python 3",
   "language": "python",
   "name": "python3"
  },
  "language_info": {
   "codemirror_mode": {
    "name": "ipython",
    "version": 3
   },
   "file_extension": ".py",
   "mimetype": "text/x-python",
   "name": "python",
   "nbconvert_exporter": "python",
   "pygments_lexer": "ipython3",
   "version": "3.7.4"
  }
 },
 "nbformat": 4,
 "nbformat_minor": 2
}
