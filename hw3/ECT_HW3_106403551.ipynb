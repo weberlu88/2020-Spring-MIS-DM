{
 "cells": [
  {
   "cell_type": "markdown",
   "metadata": {},
   "source": [
    "# 作業3 Linear Regression\n",
    "\n",
    "> NCU MIS 106403551 呂晟維"
   ]
  },
  {
   "cell_type": "markdown",
   "metadata": {},
   "source": [
    "用 Weka 軟體對 BreastCancerNUM.arff, BreastCancerNOM.arff 分別建立 Linear Regression model 及 Logistic model 選擇 Use training set, 設定 Attribute: type 為 diagnosis ,在過程中對重要步驟截圖加以說明並回答以下問題：\n",
    "- (a) LinearRegression model 中多少因素與乳癌為正相關?多少為負相關? 10%\n",
    "- (b) 舉出三個 LinearRegression model 認為與乳癌無關的因素? 10%\n",
    "- (c) 比較 Logistic model 與 Linear Regression model 的均方根誤差兩者差距多少哪個模型表現較好? 30%\n",
    "\n",
    "用 python 對 BreastCancer.csv 建立 LinearRegression model 及\n",
    "Logistic model(solver='liblinear') 在過程中對重要步驟截圖加以說明並回答以下問題：\n",
    "- (a) 以 coef_function 印出各 Attribute 的相關係數請問 LinearRegression model 中 Attribute 'area_mean' 的係數是多少? 10%\n",
    "- (b) LinearRegression model 中影響最大的因素為何? 20%\n",
    "- (c) 以 score() function 印出兩模型的正確率，請問何者較高? 20%"
   ]
  },
  {
   "cell_type": "markdown",
   "metadata": {},
   "source": [
    "## Weka部分\n",
    "\n",
    "本次的乳癌資料有31筆attr，有30筆當作Input(都是數值資料)，欄位diagnosis是Output，Instance總共有569列。\n",
    "- BreastCancerNUM.arff的Output為numeric資料，只能run Linear Regression model \n",
    "- BreastCancerNOM.arff的Output是nominal，只能run Logistic model\n",
    "\n",
    "### (a) LinearRegression model 中多少因素與乳癌為正相關?多少為負相關? 10%\n",
    "\n",
    "首先我們用`BreastCancerNUM.arff`來當數據集，執行得出的回歸模型如下，，一共會有30個權重$w_{1}$~$w_{30}$，和一個常數項$w_{0}$；由結果得知有18個非0權重，正相關的有6個(weight>0)，負相關的有12個(weight<0)。\n",
    "\n",
    "```python\n",
    "=== Classifier model (full training set) ===\n",
    "Linear Regression Model\n",
    "\n",
    "diagnosis =\n",
    "\n",
    "     -0.0709 * radius_mean +\n",
    "     -0.0047 * perimeter_mean +\n",
    "      0.0008 * area_mean +\n",
    "      3.8735 * compactness_mean +\n",
    "     -1.1601 * concavity_mean +\n",
    "     -1.9936 * concave points_mean +\n",
    "     -0.969  * radius_se +\n",
    "      0.0363 * perimeter_se +\n",
    "      0.0029 * area_se +\n",
    "    -19.4375 * smoothness_se +\n",
    "      3.0168 * concavity_se +\n",
    "     -0.0105 * texture_worst +\n",
    "     -0.0058 * perimeter_worst +\n",
    "      0.0002 * area_worst +\n",
    "     -0.3631 * concavity_worst +\n",
    "     -1.8387 * concave points_worst +\n",
    "     -0.811  * symmetry_worst +\n",
    "     -3.909  * fractal_dimension_worst +\n",
    "      3.133 \n",
    "```\n",
    "正相關的6個因素：\n",
    "```python\n",
    "      0.0008 * area_mean \n",
    "      3.8735 * compactness_mean \n",
    "      0.0363 * perimeter_se \n",
    "      0.0029 * area_se \n",
    "      0.0002 * area_worst \n",
    "      3.0168 * concavity_se \n",
    "```\n",
    "負相關的12個因素：\n",
    "```python\n",
    "     -0.0709 * radius_mean \n",
    "     -0.0047 * perimeter_mean \n",
    "     -1.1601 * concavity_mean \n",
    "     -1.9936 * concave points_mean \n",
    "     -0.969  * radius_se \n",
    "    -19.4375 * smoothness_se \n",
    "     -0.0105 * texture_worst \n",
    "     -0.0058 * perimeter_worst \n",
    "     -0.3631 * concavity_worst \n",
    "     -1.8387 * concave points_worst \n",
    "     -0.811  * symmetry_worst \n",
    "     -3.909  * fractal_dimension_worst \n",
    "```"
   ]
  },
  {
   "cell_type": "markdown",
   "metadata": {},
   "source": [
    "### (b) 舉出三個 LinearRegression model 認為與乳癌無關的因素? 10%\n",
    "\n",
    "與乳癌無關的因素有${30-18=12}$個，全部列出來如下：\n",
    "\n",
    "```\n",
    "texture_mean\n",
    "smoothness_mean\n",
    "symmetry_mean\n",
    "fractal_dimension_mean\n",
    "texture_se\n",
    "compactness_se\n",
    "concave points_se\n",
    "symmetry_se\n",
    "fractal_dimension_se\n",
    "radius_worst\n",
    "smoothness_worst\n",
    "compactness_worst\n",
    "```"
   ]
  },
  {
   "cell_type": "markdown",
   "metadata": {},
   "source": [
    "### (c) 比較 Logistic model 與 Linear Regression model 的均方根誤差兩者差距多少哪個模型表現較好? 30%\n",
    "\n",
    "兩者的均方根誤差相差蠻多的，其實均方根誤差就是testing data誤差的標準差；Linear的均方根誤差為`0.2331`，Logistic的均方根誤差為`0.0003`。\n",
    "\n",
    "從數字上看起來，Linear的表現較差，但是其實很難從數值判斷，因為Llinear算出來的數值不是機率，只是用回歸來估計的數值結果，predict值會為負或大於1；如果是predict = 0.9 還是不等於 1。所以會有誤差 = 0.1。\n",
    "\n",
    "而Logistic是分類法，輸出是non-linear的機率，所以predict機率 = 0.9即意會有乳癌，預測正確。因此判斷沒有誤差。若細看Confusion Matrix的話，發現Logistic的testing根本沒有任何錯誤，因為java浮點數運算問題才會得到$\\sqrt[]{0.0} = 0.0003$。\n",
    "\n",
    "Linear Regression model的summary如下：\n",
    "```js\n",
    "Correlation coefficient                  0.8761\n",
    "Mean absolute error                      0.1841\n",
    "Root mean squared error                  0.2331  <== '均方根誤差'\n",
    "Relative absolute error                 39.3731 %\n",
    "Root relative squared error             48.2196 %\n",
    "Total Number of Instances              569     \n",
    "```\n",
    "Logistic model的summary如下：\n",
    "```js\n",
    "Correctly Classified Instances         569              100      %\n",
    "Incorrectly Classified Instances         0                0      %\n",
    "Kappa statistic                          1     \n",
    "Mean absolute error                      0     \n",
    "Root mean squared error                  0.0003  <== '均方根誤差'\n",
    "Relative absolute error                  0.0085 %\n",
    "Root relative squared error              0.0538 %\n",
    "Total Number of Instances              569   \n",
    "\n",
    "=== Confusion Matrix ===\n",
    "\n",
    "   a   b   <-- classified as\n",
    " 212   0 |   a = M\n",
    "   0 357 |   b = B\n",
    "```"
   ]
  },
  {
   "cell_type": "markdown",
   "metadata": {},
   "source": [
    "## Pyhton部分\n",
    "\n",
    "程式碼解說請至`Linear Regression - Breast Cancer.ipynb`以及`Logistic Regression - Breast Cancer.ipynb`查看唷。兩者大同小異，都是由sklearn官網範例更改來的。作業最後面也有稍做講解。"
   ]
  },
  {
   "cell_type": "markdown",
   "metadata": {},
   "source": [
    "### (a) 以 coef_function 印出各 Attribute 的相關係數請問 LinearRegression model 中 Attribute 'area_mean' 的係數是多少? 10%\n",
    "\n",
    "來看看Linear Regression model 的輸出，已將科學記號的結果轉成浮點數:\n",
    "```\n",
    "Coefficients: \n",
    " [  0.2178  -0.0045  -0.0237  -0.0003  -0.0847   4.222   -1.398   -2.1418\n",
    "  -0.1027  -0.0333  -0.435    0.0068   0.0225   0.0009 -15.8543  -0.0649\n",
    "   3.5655 -10.568   -1.6973   7.1464  -0.1952  -0.0072   0.0024   0.001\n",
    "  -0.5429  -0.0672  -0.3812  -0.4643  -0.5568  -4.3035]\n",
    "Intercept:  3.021811738437393\n",
    "Mean squared error: 0.05\n",
    "Coefficient of determination: 0.77\n",
    "```\n",
    "Coefficients列出了30個屬性的權重各是多少，順序是照著csv欄位排序，所以 'area_mean' 的係數是第四個input也就是`-0.0003`，其實相關度是非常低的負相關。"
   ]
  },
  {
   "cell_type": "markdown",
   "metadata": {},
   "source": [
    "### (b) LinearRegression model 中影響最大的因素為何? 20%\n",
    "\n",
    "由a小題的輸出結果可以發現Coefficient數值取絕對值後最大的是`-15.8543`，他是第十五個係數，也就是csv資料欄位的第十六欄`smoothness_se`。"
   ]
  },
  {
   "cell_type": "markdown",
   "metadata": {},
   "source": [
    "### (c) 以 score() function 印出兩模型的正確率，請問何者較高? 20%\n",
    "\n",
    "`Coefficient of determination`就是`score()` function。代表模型的正確率，是0~1的數值。 \n",
    "- Linear Regression model的score是`0.77`\n",
    "- Logistic Regression model的score是`0.96`\n",
    "\n",
    "很明顯還是Logistic的精準度高，但若同樣考量到classification的原理(weka部分講過)，精準度高也是很合理的。順便看一下Logistic Regression model的Confusion Matrix，正確率也是很高。\n",
    "```\n",
    "array([[198,  14],\n",
    "       [  9, 348]], dtype=int64)\n",
    "```"
   ]
  },
  {
   "cell_type": "markdown",
   "metadata": {},
   "source": [
    "## Appendix 程式解說\n",
    "\n",
    "As same as previous HWs, it requires 3 steps. First step is pre-process the data into x(input), y(output)."
   ]
  },
  {
   "cell_type": "code",
   "execution_count": null,
   "metadata": {},
   "outputs": [],
   "source": [
    "# Load the BreastCancer dataset\n",
    "df =  pd.read_csv('BreastCancer.csv')\n",
    "# Label of data > y\n",
    "breastCancer_y = df['diagnosis'].values\n",
    "\n",
    "# Training data > X\n",
    "breastCancer_X = df.iloc[:,1:]\n",
    "breastCancer_X = breastCancer_X.values"
   ]
  },
  {
   "cell_type": "markdown",
   "metadata": {},
   "source": [
    "Then we train the LR model & do predictions.\n",
    "- linear regression model:"
   ]
  },
  {
   "cell_type": "code",
   "execution_count": null,
   "metadata": {},
   "outputs": [],
   "source": [
    "# Create linear regression object\n",
    "regr = linear_model.LinearRegression()\n",
    "\n",
    "# Train the model using the training sets\n",
    "regr.fit(breastCancer_X, breastCancer_y)\n",
    "\n",
    "# Make predictions using the testing set = training sets\n",
    "breastCancer_y_pred = regr.predict(breastCancer_X)"
   ]
  },
  {
   "cell_type": "markdown",
   "metadata": {},
   "source": [
    "- logistic regression model:"
   ]
  },
  {
   "cell_type": "code",
   "execution_count": null,
   "metadata": {},
   "outputs": [],
   "source": [
    "# Create linear regression object\n",
    "logreg = linear_model.LogisticRegression(solver = 'liblinear')\n",
    "\n",
    "# Train the model using the training sets\n",
    "logreg.fit(breastCancer_X, breastCancer_y)\n",
    "\n",
    "# Make predictions using the testing set = training sets\n",
    "breastCancer_y_pred = logreg.predict(breastCancer_X)"
   ]
  },
  {
   "cell_type": "markdown",
   "metadata": {},
   "source": [
    "Finally, ends with printing the results."
   ]
  },
  {
   "cell_type": "code",
   "execution_count": null,
   "metadata": {},
   "outputs": [],
   "source": [
    "# The coefficients 各項的係數/權重，有30個\n",
    "print(regr.coef_)\n",
    "# The intercept 截距\n",
    "print(regr.intercept_)\n",
    "# The mean squared error\n",
    "print(mean_squared_error(breastCancer_y, breastCancer_y_pred))\n",
    "# The coefficient of determination: 1 is perfect prediction 沒測試集so代原本訓練集\n",
    "print(regr.score(breastCancer_X, breastCancer_y))"
   ]
  }
 ],
 "metadata": {
  "kernelspec": {
   "display_name": "Python 3",
   "language": "python",
   "name": "python3"
  },
  "language_info": {
   "codemirror_mode": {
    "name": "ipython",
    "version": 3
   },
   "file_extension": ".py",
   "mimetype": "text/x-python",
   "name": "python",
   "nbconvert_exporter": "python",
   "pygments_lexer": "ipython3",
   "version": "3.7.4"
  }
 },
 "nbformat": 4,
 "nbformat_minor": 2
}
