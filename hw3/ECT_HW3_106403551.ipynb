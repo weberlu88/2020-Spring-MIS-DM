{
 "cells": [
  {
   "cell_type": "markdown",
   "metadata": {},
   "source": [
    "# 作業3 Linear Regression"
   ]
  },
  {
   "cell_type": "markdown",
   "metadata": {},
   "source": [
    "用 Weka 軟體對 BreastCancerNUM.arff, BreastCancerNOM.arff 分別建立 Linear Regression model 及 Logistic model 選擇 Use training set, 設定 Attribute: type 為 diagnosis ,在過程中對重要步驟截圖加以說明並回答以下問題：\n",
    "- (a) LinearRegression model 中多少因素與乳癌為正相關?多少為負相關? 10%\n",
    "- (b) 舉出三個 LinearRegression model 認為與乳癌無關的因素? 10%\n",
    "- (c) 比較 Logistic model 與 Linear Regression model 的均方根誤差兩者差距多少哪個模型表現較好? 30%\n",
    "\n",
    "用 python 對 BreastCancer.csv 建立 LinearRegression model 及\n",
    "Logistic model(solver='liblinear') 在過程中對重要步驟截圖加以說明並回答以下問題：\n",
    "- (a) 以 coef_function 印出各 Attribute 的相關係數請問 LinearRegression model 中 Attribute 'area_mean' 的係數是多少? 10%\n",
    "- (b) LinearRegression model 中影響最大的因素為何? 20%\n",
    "- (c) 以 score() function 印出兩模型的正確率，請問何者較高? 20%"
   ]
  },
  {
   "cell_type": "markdown",
   "metadata": {},
   "source": [
    "## Weka部分\n",
    "\n",
    "本次的乳癌資料有31筆attr，有30筆當作Input(都是數值資料)，欄位diagnosis是Output，Instance總共有569列。\n",
    "- BreastCancerNUM.arff的Output為numeric資料，只能run Linear Regression model \n",
    "- BreastCancerNOM.arff的Output是nominal，只能run Logistic model\n",
    "\n",
    "### (a) LinearRegression model 中多少因素與乳癌為正相關?多少為負相關? 10%\n",
    "\n",
    "首先我們用`BreastCancerNUM.arff`來當數據集，執行得出的回歸模型如下，，一共會有30個權重$w_{1}$~$w_{30}$，和一個常數項$w_{0}$；由結果得知有18個非0權重，正相關的有6個(weight>0)，負相關的有12個(weight<0)。\n",
    "\n",
    "```python\n",
    "=== Classifier model (full training set) ===\n",
    "Linear Regression Model\n",
    "\n",
    "diagnosis =\n",
    "\n",
    "     -0.0709 * radius_mean +\n",
    "     -0.0047 * perimeter_mean +\n",
    "      0.0008 * area_mean +\n",
    "      3.8735 * compactness_mean +\n",
    "     -1.1601 * concavity_mean +\n",
    "     -1.9936 * concave points_mean +\n",
    "     -0.969  * radius_se +\n",
    "      0.0363 * perimeter_se +\n",
    "      0.0029 * area_se +\n",
    "    -19.4375 * smoothness_se +\n",
    "      3.0168 * concavity_se +\n",
    "     -0.0105 * texture_worst +\n",
    "     -0.0058 * perimeter_worst +\n",
    "      0.0002 * area_worst +\n",
    "     -0.3631 * concavity_worst +\n",
    "     -1.8387 * concave points_worst +\n",
    "     -0.811  * symmetry_worst +\n",
    "     -3.909  * fractal_dimension_worst +\n",
    "      3.133 \n",
    "```\n",
    "正相關的6個因素：\n",
    "```python\n",
    "      0.0008 * area_mean \n",
    "      3.8735 * compactness_mean \n",
    "      0.0363 * perimeter_se \n",
    "      0.0029 * area_se \n",
    "      0.0002 * area_worst \n",
    "      3.0168 * concavity_se \n",
    "```\n",
    "負相關的12個因素：\n",
    "```python\n",
    "     -0.0709 * radius_mean \n",
    "     -0.0047 * perimeter_mean \n",
    "     -1.1601 * concavity_mean \n",
    "     -1.9936 * concave points_mean \n",
    "     -0.969  * radius_se \n",
    "    -19.4375 * smoothness_se \n",
    "     -0.0105 * texture_worst \n",
    "     -0.0058 * perimeter_worst \n",
    "     -0.3631 * concavity_worst \n",
    "     -1.8387 * concave points_worst \n",
    "     -0.811  * symmetry_worst \n",
    "     -3.909  * fractal_dimension_worst \n",
    "```"
   ]
  },
  {
   "cell_type": "markdown",
   "metadata": {},
   "source": [
    "### (b) 舉出三個 LinearRegression model 認為與乳癌無關的因素? 10%\n",
    "\n",
    "與乳癌無關的因素有${30-18=12}$個，全部列出來如下：\n",
    "\n",
    "```\n",
    "texture_mean\n",
    "smoothness_mean\n",
    "symmetry_mean\n",
    "fractal_dimension_mean\n",
    "texture_se\n",
    "compactness_se\n",
    "concave points_se\n",
    "symmetry_se\n",
    "fractal_dimension_se\n",
    "radius_worst\n",
    "smoothness_worst\n",
    "compactness_worst\n",
    "```"
   ]
  },
  {
   "cell_type": "markdown",
   "metadata": {},
   "source": [
    "### (c) 比較 Logistic model 與 Linear Regression model 的均方根誤差兩者差距多少哪個模型表現較好? 30%\n",
    "\n",
    "兩者的均方根誤差相差蠻多的，其實均方根誤差就是testing data誤差的標準差；Linear的均方根誤差為`0.2331`，Logistic的均方根誤差為`0.0003`。\n",
    "\n",
    "從數字上看起來，Linear的表現較差，但是其實很難從數值判斷，因為Llinear算出來的數值不是機率，只是用回歸來估計的數值結果，predict值會為負或大於1；如果是predict = 0.9 還是不等於 1。所以會有誤差 = 0.1。\n",
    "\n",
    "而Logistic是分類法，輸出是non-linear的機率，所以predict機率 = 0.9即意會有乳癌，預測正確。因此判斷沒有誤差。若細看Confusion Matrix的話，發現Logistic的testing根本沒有任何錯誤，因為java浮點數運算問題才會得到$\\sqrt[]{0.0} = 0.0003$。\n",
    "\n",
    "Linear Regression model的summary如下：\n",
    "```js\n",
    "Correlation coefficient                  0.8761\n",
    "Mean absolute error                      0.1841\n",
    "Root mean squared error                  0.2331  <== '均方根誤差'\n",
    "Relative absolute error                 39.3731 %\n",
    "Root relative squared error             48.2196 %\n",
    "Total Number of Instances              569     \n",
    "```\n",
    "Logistic model的summary如下：\n",
    "```js\n",
    "Correctly Classified Instances         569              100      %\n",
    "Incorrectly Classified Instances         0                0      %\n",
    "Kappa statistic                          1     \n",
    "Mean absolute error                      0     \n",
    "Root mean squared error                  0.0003  <== '均方根誤差'\n",
    "Relative absolute error                  0.0085 %\n",
    "Root relative squared error              0.0538 %\n",
    "Total Number of Instances              569   \n",
    "\n",
    "=== Confusion Matrix ===\n",
    "\n",
    "   a   b   <-- classified as\n",
    " 212   0 |   a = M\n",
    "   0 357 |   b = B\n",
    "```"
   ]
  },
  {
   "cell_type": "markdown",
   "metadata": {},
   "source": [
    "## Pyhton部分"
   ]
  }
 ],
 "metadata": {
  "kernelspec": {
   "display_name": "Python 3",
   "language": "python",
   "name": "python3"
  },
  "language_info": {
   "codemirror_mode": {
    "name": "ipython",
    "version": 3
   },
   "file_extension": ".py",
   "mimetype": "text/x-python",
   "name": "python",
   "nbconvert_exporter": "python",
   "pygments_lexer": "ipython3",
   "version": "3.7.4"
  }
 },
 "nbformat": 4,
 "nbformat_minor": 2
}
