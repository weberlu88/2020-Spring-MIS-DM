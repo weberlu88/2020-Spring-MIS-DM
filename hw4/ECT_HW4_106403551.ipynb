{
 "cells": [
  {
   "cell_type": "markdown",
   "metadata": {},
   "source": [
    "# SVM 支援向量機\n",
    "\n",
    "> NCU MIS 106403551 呂晟維"
   ]
  },
  {
   "cell_type": "markdown",
   "metadata": {},
   "source": [
    "1. 使用 weka 對 heart.arff 進⾏SVM分析，過程中對所有重要步驟進行截圖並加以說明，越詳盡好：\n",
    "\n",
    "    - (a) 請嘗試修改 heart.arff，使其可以使用 SMO function 進行 SVM 分析，並說明原本為何無法使用 SMO (5%)\n",
    "    - (b) 請嘗試去除有空值的資料 (5%)\n",
    "    - (c) ⽤SMO function 對前處理過的 heart.arff 進行 SVM 分析，kernel 設為'linear'，Percentage spilt 設為 66%，截圖並附上過程及準確率 (30%)\n",
    "\n",
    "\n",
    "2. 使用 python 依照步驟對 heart.csv 進⾏ SVM 分析，過程中對所有重要程式步驟進行截圖並加以說明，越詳盡越好：\n",
    "\n",
    "    - (d) 請問資料集是否有空值︖有幾筆資料含有空值︖如有空值即去掉該筆資料 (5%)\n",
    "    - (e) 將最後⼀個屬性值 ”target” 切分成 Label，其餘屬型切分為 Feature (5%)\n",
    "    - (f) 將 Feature ⽤ sklearn.preprocessing 的 StandardScaler 進行標準化 (10%)\n",
    "    - (g) 切分資料集與測試集，設 test_size=0.33，random_state=1 (10%)\n",
    "    - (h) 最後，使用 sklearn.svm 裡的 SVC 進行分析，kernel 設為'linear'，並印出模型最終的準確度 (30%)"
   ]
  },
  {
   "cell_type": "markdown",
   "metadata": {},
   "source": [
    "## Weka部分"
   ]
  },
  {
   "cell_type": "markdown",
   "metadata": {},
   "source": [
    "### (a) 請嘗試修改 heart.arff，使其可以使用 SMO function 進行 SVM 分析，並說明原本為何無法使用 SMO (5%)\n",
    "\n",
    "可以觀察到原本的.arff有空值，也都是Numeric型態的數值資料，Weka無法執行的主要原因是SVM是Binary Classifier，需要將Label也就是`target`欄位轉成Nominal型態。所以將.arff的`target`欄位稍作修改成下方樣式就可以執行了。\n",
    "```js\n",
    "@attribute target {0, 1}\n",
    "```\n",
    "這裡我另外save為`heart_Nom.arff`。\n",
    "![](https://i.imgur.com/Sacb7n1.png)"
   ]
  },
  {
   "cell_type": "markdown",
   "metadata": {},
   "source": [
    "### (b) 請嘗試去除有空值的資料 (5%)\n",
    "\n",
    "由於原本的.arff有空值，我們使用weka內建的editor來手動刪除有空值的資料列，選取時同時按住`ctrl`鍵可以同時選取多筆資料再一次刪除，這裡我另外save為`heart_rmNull.arff`。\n",
    "\n",
    "![](https://i.imgur.com/ksYQzpi.png)"
   ]
  },
  {
   "cell_type": "markdown",
   "metadata": {},
   "source": [
    "### (c) 用 SMO function 對前處理過的 heart.arff 進行 SVM 分析，kernel 設為'linear'，Percentage spilt 設為 66%，截圖並附上過程及準確率 (30%)\n",
    "\n",
    "SVM方法在Weka中稱作SMO，SVM最精華的地方在於Kernel function，我們這次要求做linear的Kernel function，因此選擇多項式的PolyKernal，把次方數設為1表示線性SVM。調整完後按下確定執行就可以囉!\n",
    "![](https://i.imgur.com/3gUDy4w.png)"
   ]
  },
  {
   "cell_type": "markdown",
   "metadata": {},
   "source": [
    "執行結果的`Classifier model`如下，可以看到我們的Kernel是`Linear Kernel: K(x,y) = <x,y>`，代表線性回歸，沒有把資料投射到更高維度的空間中。\n",
    "```js\n",
    "=== Classifier model (full training set) ===\n",
    "\n",
    "SMO\n",
    "\n",
    "Kernel used:\n",
    "  Linear Kernel: K(x,y) = <x,y>\n",
    "\n",
    "Classifier for classes: 0, 1\n",
    "\n",
    "BinarySMO\n",
    "\n",
    "Machine linear: showing attribute weights, not support vectors.\n",
    "\n",
    "        -0.3014 * (normalized) ï»¿age\n",
    " +      -1.0026 * (normalized) sex\n",
    " +       1.734  * (normalized) cp\n",
    " +      -0.9088 * (normalized) trestbps\n",
    " +      -0.4322 * (normalized) chol\n",
    " +       0.0432 * (normalized) fbs\n",
    " +       0.2627 * (normalized) restecg\n",
    " +       1.2303 * (normalized) thalach\n",
    " +      -0.769  * (normalized) exang\n",
    " +      -1.7558 * (normalized) oldpeak\n",
    " +       0.7044 * (normalized) slope\n",
    " +      -1.6552 * (normalized) ca\n",
    " +      -1.6355 * (normalized) thal\n",
    " +       1.7718\n",
    "\n",
    "Number of kernel evaluations: 13465 (77.441% cached)\n",
    "```\n",
    "然後我們的準確率是86%，如果Kernel選擇更高次方可提升準確率，但怕有overfit的現象。\n",
    "```js\n",
    "=== Summary ===\n",
    "\n",
    "Correctly Classified Instances          86               86      %\n",
    "Incorrectly Classified Instances        14               14      %\n",
    "Kappa statistic                          0.72  \n",
    "Mean absolute error                      0.14  \n",
    "Root mean squared error                  0.3742\n",
    "Relative absolute error                 28      %\n",
    "Root relative squared error             74.2256 %\n",
    "Total Number of Instances              100    \n",
    "```"
   ]
  },
  {
   "cell_type": "markdown",
   "metadata": {},
   "source": [
    "## Python部分\n",
    "\n",
    "詳細的程式碼和參考資料等解說還是寫放在`SVM - Heart Attack.ipynb`裡。"
   ]
  },
  {
   "cell_type": "markdown",
   "metadata": {},
   "source": [
    "### (d) 請問資料集是否有空值︖有幾筆資料含有空值︖如有空值即去掉該筆資料 (5%)\n",
    "將csv資料讀入成`df`後，我們檢查是否有空值並確認有10筆空資料。"
   ]
  },
  {
   "cell_type": "raw",
   "metadata": {},
   "source": [
    ">>> df.isnull().values.any()\n",
    "\n",
    "True"
   ]
  },
  {
   "cell_type": "raw",
   "metadata": {},
   "source": [
    ">>> df.isnull().sum()\n",
    "\n",
    "age         0\n",
    "sex         0\n",
    "cp          1\n",
    "trestbps    0\n",
    "chol        2\n",
    "fbs         0\n",
    "restecg     3\n",
    "thalach     0\n",
    "exang       1\n",
    "oldpeak     2\n",
    "slope       1\n",
    "ca          0\n",
    "thal        0\n",
    "target      0\n",
    "dtype: int64"
   ]
  },
  {
   "cell_type": "markdown",
   "metadata": {},
   "source": [
    "刪除有空值的資料，資料筆數從303改為293。"
   ]
  },
  {
   "cell_type": "raw",
   "metadata": {},
   "source": [
    "df.dropna(axis=0, inplace=True)"
   ]
  },
  {
   "cell_type": "markdown",
   "metadata": {},
   "source": [
    "### (e) 將最後⼀個屬性值 ”target” 切分成 Label，其餘屬型切分為 Feature (5%)\n",
    "\n",
    "- `label`變數是target欄位的資料，是資料集的output\n",
    "- `features`變數資料集的14欄input"
   ]
  },
  {
   "cell_type": "raw",
   "metadata": {},
   "source": [
    "features = df.iloc[:, 0:13]\n",
    "label = df['target']"
   ]
  },
  {
   "cell_type": "markdown",
   "metadata": {},
   "source": [
    "### (f) 將 Feature ⽤ sklearn.preprocessing 的 StandardScaler 進行標準化 (10%)\n",
    "\n",
    "由於 SVM 的資料需要標準化。用 sklearn.preprocessing 的 StandardScaler 進行特徵標準化。"
   ]
  },
  {
   "cell_type": "raw",
   "metadata": {},
   "source": [
    ">>> from sklearn.preprocessing import StandardScaler\n",
    ">>> scaler = StandardScaler().fit(features)\n",
    "\n",
    "StandardScaler(copy=True, with_mean=True, with_std=True)"
   ]
  },
  {
   "cell_type": "markdown",
   "metadata": {},
   "source": [
    "After fitting, Mean and standard deviation are then stored to be used on later data using transform."
   ]
  },
  {
   "cell_type": "raw",
   "metadata": {},
   "source": [
    ">>> scaler.transform(features)\n",
    "\n",
    "array([[ 0.96008384,  0.68190908,  1.97865831, ..., -2.26047188,\n",
    "        -0.71658705, -2.12994828],\n",
    "       [-1.90587175,  0.68190908,  1.00592864, ..., -2.26047188,\n",
    "        -0.71658705, -0.50051004],\n",
    "       [-1.46495551, -1.46647115,  0.03319897, ...,  0.9703489 ,\n",
    "        -0.71658705, -0.50051004],\n",
    "       ...,\n",
    "       [ 1.51122914,  0.68190908, -0.93953071, ..., -0.64506149,\n",
    "         1.23652928,  1.1289282 ],\n",
    "       [ 0.29870947,  0.68190908, -0.93953071, ..., -0.64506149,\n",
    "         0.25997112,  1.1289282 ],\n",
    "       [ 0.29870947, -1.46647115,  0.03319897, ..., -0.64506149,\n",
    "         0.25997112, -0.50051004]])"
   ]
  },
  {
   "cell_type": "markdown",
   "metadata": {},
   "source": [
    "### (g) 切分資料集與測試集，設 test_size=0.33，random_state=1 (10%)\n",
    "\n",
    "切分資料集與測試集，設 test_size=0.33, random_state=1\n",
    "\n",
    "train_size：三种类型。float，int，None。\n",
    "- float：0.0-1.0之间，代表训练数据集占总数据集的比例。\n",
    "- int：代表训练数据集具体的样本数量。\n",
    "- None：设置为test_size的补。\n",
    "- default：默认为None。\n",
    "\n",
    "random_state：三种类型。int，randomstate instance，None。\n",
    "- int：是随机数生成器的种子。每次分配的数据相同。\n",
    "- randomstate：random_state是随机数生成器的种子。（这里没太理解）\n",
    "- None：随机数生成器是使用了np.random的randomstate。\n",
    "- 种子相同，产生的随机数就相同。种子不同，即使是不同的实例，产生的种子也不相同。"
   ]
  },
  {
   "cell_type": "raw",
   "metadata": {},
   "source": [
    ">>> import numpy as np\n",
    ">>> from sklearn.model_selection import train_test_split\n",
    "\n",
    ">>> X_train, X_test, y_train, y_test = train_test_split(features, label, test_size=0.33, random_state=1)"
   ]
  },
  {
   "cell_type": "markdown",
   "metadata": {},
   "source": [
    "### (h) 最後，使用 sklearn.svm 裡的 SVC 進行分析，kernel 設為'linear'，並印出模型最終的準確度 (30%)"
   ]
  },
  {
   "cell_type": "markdown",
   "metadata": {},
   "source": [
    "這裡用Score方法和Classification Report來得出模型的準確度，都有80多%的準確率。如果kernel設高次方應該可以再提升準確率。"
   ]
  },
  {
   "cell_type": "raw",
   "metadata": {},
   "source": [
    ">>> from sklearn import svm\n",
    "\n",
    ">>> linear_svc = svm.SVC(kernel='linear').fit(X_train, y_train)\n",
    ">>> linear_svc\n",
    "\n",
    "SVC(C=1.0, cache_size=200, class_weight=None, coef0=0.0,\n",
    "    decision_function_shape='ovr', degree=3, gamma='auto_deprecated',\n",
    "    kernel='linear', max_iter=-1, probability=False, random_state=None,\n",
    "    shrinking=True, tol=0.001, verbose=False)"
   ]
  },
  {
   "cell_type": "markdown",
   "metadata": {},
   "source": [
    "**Accurecy in Training set**"
   ]
  },
  {
   "cell_type": "raw",
   "metadata": {},
   "source": [
    ">>> linear_svc.score(X_train, y_train)\n",
    "\n",
    "0.8367346938775511"
   ]
  },
  {
   "cell_type": "markdown",
   "metadata": {},
   "source": [
    "**Accurecy in Testing set**"
   ]
  },
  {
   "cell_type": "raw",
   "metadata": {},
   "source": [
    ">>> linear_svc.score(X_test, y_test)\n",
    "\n",
    "0.865979381443299"
   ]
  },
  {
   "cell_type": "markdown",
   "metadata": {},
   "source": [
    "**Classification Report**"
   ]
  },
  {
   "cell_type": "raw",
   "metadata": {},
   "source": [
    ">>> expected = y_test\n",
    ">>> predicted = linear_svc.predict(X_test)\n",
    "\n",
    ">>> from sklearn import metrics\n",
    ">>> print(metrics.classification_report(expected, predicted))\n",
    "\n",
    "             precision    recall  f1-score   support\n",
    "\n",
    "          0       0.90      0.81      0.85        47\n",
    "          1       0.84      0.92      0.88        50\n",
    "\n",
    "avg / total       0.87      0.87      0.87        97"
   ]
  },
  {
   "cell_type": "markdown",
   "metadata": {},
   "source": [
    "在繳交程式碼檔案裡，我還有視覺化confusion matrix。 d(d＇∀＇)."
   ]
  }
 ],
 "metadata": {
  "kernelspec": {
   "display_name": "Python 3",
   "language": "python",
   "name": "python3"
  },
  "language_info": {
   "codemirror_mode": {
    "name": "ipython",
    "version": 3
   },
   "file_extension": ".py",
   "mimetype": "text/x-python",
   "name": "python",
   "nbconvert_exporter": "python",
   "pygments_lexer": "ipython3",
   "version": "3.6.5"
  }
 },
 "nbformat": 4,
 "nbformat_minor": 2
}
