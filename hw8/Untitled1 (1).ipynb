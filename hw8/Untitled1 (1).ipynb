{
 "cells": [
  {
   "cell_type": "code",
   "execution_count": 52,
   "metadata": {},
   "outputs": [
    {
     "name": "stdout",
     "output_type": "stream",
     "text": [
      "[0.89473684 0.83333333 0.66666667 0.88888889 0.83333333 0.83333333\n",
      " 1.         0.94444444 0.94117647 1.        ]\n",
      "mean of accuracy 0.88359133126935\n"
     ]
    }
   ],
   "source": [
    "import pandas as pd\n",
    "from sklearn.tree import DecisionTreeClassifier\n",
    "from sklearn.model_selection import cross_val_score\n",
    "\n",
    "data = pd.read_csv(\"Wine.csv\")\n",
    "\n",
    "# Quality以外的attribute代給 features (input)\n",
    "X_features = data.drop('Quality', axis=1)\n",
    "# Quality設為output\n",
    "y_label = data['Quality']\n",
    "\n",
    "# 使用decisionTreeClassifier作為分類器\n",
    "dtc = DecisionTreeClassifier()\n",
    "\n",
    "# cv_scores = cross_val_score(分類器, input data, output data ,cv = k)\n",
    "# k = Folds cross-validation\n",
    "cv_scores = cross_val_score(dtc, X_features,y_label , cv=10)\n",
    "\n",
    "# 每一次的準確率\n",
    "print(cv_scores)\n",
    "\n",
    "# 平均準確率\n",
    "print(\"mean of accuracy\",cv_scores.mean())"
   ]
  },
  {
   "cell_type": "code",
   "execution_count": 61,
   "metadata": {},
   "outputs": [
    {
     "name": "stdout",
     "output_type": "stream",
     "text": [
      "[0.84210526 0.94444444 0.94444444 0.88888889 0.94444444 1.\n",
      " 1.         0.94444444 1.         1.        ]\n",
      "mean of accuracy 0.9508771929824562\n"
     ]
    }
   ],
   "source": [
    "import pandas as pd\n",
    "from sklearn.ensemble import BaggingClassifier\n",
    "from sklearn.model_selection import cross_val_score\n",
    "\n",
    "data = pd.read_csv(\"Wine.csv\")\n",
    "\n",
    "# Purchased以外的attribute代給 features (input)\n",
    "X_features = data.drop('Quality', axis=1)\n",
    "# Purchased設為output\n",
    "y_label = data['Quality']\n",
    "\n",
    "# 使用BaggingClassifier作為分類器\n",
    "# n_estimators : The number of base estimators in the ensemble.\n",
    "clf = BaggingClassifier(n_estimators = 10)\n",
    "\n",
    "cv_scores = cross_val_score(clf, X_features,y_label , cv=10)\n",
    "\n",
    "print(cv_scores)\n",
    "print(\"mean of accuracy\",cv_scores.mean())"
   ]
  },
  {
   "cell_type": "code",
   "execution_count": 56,
   "metadata": {},
   "outputs": [],
   "source": [
    "import warnings\n",
    "warnings.filterwarnings(\"ignore\")"
   ]
  },
  {
   "cell_type": "code",
   "execution_count": 62,
   "metadata": {},
   "outputs": [
    {
     "name": "stdout",
     "output_type": "stream",
     "text": [
      "[0.94736842 0.94444444 0.88888889 0.94444444 1.         1.\n",
      " 1.         1.         1.         1.        ]\n",
      "mean of accuracy 0.9725146198830409\n"
     ]
    }
   ],
   "source": [
    "import pandas as pd\n",
    "from sklearn.model_selection import cross_val_score\n",
    "from sklearn.ensemble import RandomForestClassifier\n",
    "\n",
    "data = pd.read_csv(\"Wine.csv\")\n",
    "\n",
    "# Purchased以外的attribute代給 features (input)\n",
    "X_features = data.drop('Quality', axis=1)\n",
    "# Purchased設為output\n",
    "y_label = data['Quality']\n",
    "\n",
    "# 使用 RandomForestClassifier作為分類器\n",
    "clf = RandomForestClassifier()\n",
    "cv_scores = cross_val_score(clf, X_features,y_label , cv=10)\n",
    "\n",
    "print(cv_scores)\n",
    "print(\"mean of accuracy\",cv_scores.mean())"
   ]
  },
  {
   "cell_type": "code",
   "execution_count": 65,
   "metadata": {},
   "outputs": [
    {
     "name": "stdout",
     "output_type": "stream",
     "text": [
      "[0.52631579 0.94444444 1.         0.88888889 0.88888889 0.94444444\n",
      " 0.72222222 0.94444444 1.         1.        ]\n",
      "mean of accuracy 0.8859649122807017\n"
     ]
    }
   ],
   "source": [
    "import pandas as pd\n",
    "from sklearn.model_selection import cross_val_score\n",
    "from sklearn.ensemble import AdaBoostClassifier\n",
    "\n",
    "data = pd.read_csv(\"Wine.csv\")\n",
    "\n",
    "# Purchased以外的attribute代給 features (input)\n",
    "X_features = data.drop('Quality', axis=1)\n",
    "# Purchased設為output\n",
    "y_label = data['Quality']\n",
    "\n",
    "# 使用 AdaBoostClassifier作為分類器\n",
    "clf = AdaBoostClassifier(n_estimators = 10)\n",
    "cv_scores = cross_val_score(clf, X_features, y_label , cv=10)\n",
    "\n",
    "print(cv_scores)\n",
    "print(\"mean of accuracy\",cv_scores.mean())"
   ]
  },
  {
   "cell_type": "code",
   "execution_count": null,
   "metadata": {},
   "outputs": [],
   "source": []
  }
 ],
 "metadata": {
  "kernelspec": {
   "display_name": "Python 3",
   "language": "python",
   "name": "python3"
  },
  "language_info": {
   "codemirror_mode": {
    "name": "ipython",
    "version": 3
   },
   "file_extension": ".py",
   "mimetype": "text/x-python",
   "name": "python",
   "nbconvert_exporter": "python",
   "pygments_lexer": "ipython3",
   "version": "3.7.4"
  }
 },
 "nbformat": 4,
 "nbformat_minor": 2
}
